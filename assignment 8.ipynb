{
  "metadata": {
    "language_info": {
      "codemirror_mode": {
        "name": "python",
        "version": 3
      },
      "file_extension": ".py",
      "mimetype": "text/x-python",
      "name": "python",
      "nbconvert_exporter": "python",
      "pygments_lexer": "ipython3",
      "version": "3.8"
    },
    "kernelspec": {
      "name": "python",
      "display_name": "Python (Pyodide)",
      "language": "python"
    }
  },
  "nbformat_minor": 4,
  "nbformat": 4,
  "cells": [
    {
      "cell_type": "markdown",
      "source": "## 1.custom exception",
      "metadata": {}
    },
    {
      "cell_type": "code",
      "source": "Built-in exceptions offer information about python-related problems,and custom exceptions will add information about \nproject-related problems. That way,youcan design your code ina way that combines python code with the language of the \nproject.",
      "metadata": {},
      "execution_count": null,
      "outputs": []
    },
    {
      "cell_type": "markdown",
      "source": "## 2.exception hierachy",
      "metadata": {}
    },
    {
      "cell_type": "code",
      "source": "try:\n    numerator = 10\n    denominator = 0\n    \n    result = numerator/denominator\n    \n    print(result)\nexcept:\n    print(\"error : denominator cannot be 0.\")",
      "metadata": {
        "trusted": true
      },
      "execution_count": 2,
      "outputs": [
        {
          "name": "stdout",
          "text": "error : denominator cannot be 0.\n",
          "output_type": "stream"
        }
      ]
    },
    {
      "cell_type": "markdown",
      "source": "## 3.arthimetic error",
      "metadata": {}
    },
    {
      "cell_type": "code",
      "source": "Arthimetic error is thrown when an error occurs while performing mathematical operations.These errors include attempting \nto perform a Bitshif by a negative amount,and only call to intdiv() that would result in a value outside the possible \nbounds of an int.That includes zero division error and floating point error.",
      "metadata": {},
      "execution_count": null,
      "outputs": []
    },
    {
      "cell_type": "code",
      "source": ">>> x = 3.14159\n>>> x.as_integer_ratio()",
      "metadata": {
        "trusted": true
      },
      "execution_count": 4,
      "outputs": [
        {
          "execution_count": 4,
          "output_type": "execute_result",
          "data": {
            "text/plain": "(3537115888337719, 1125899906842624)"
          },
          "metadata": {}
        }
      ]
    },
    {
      "cell_type": "code",
      "source": "a = 10\nb = 0\nif b == 0:\n    print(\"cannot divide by zero\")\nelse:\n    print(a/b)",
      "metadata": {
        "trusted": true
      },
      "execution_count": 5,
      "outputs": [
        {
          "name": "stdout",
          "text": "cannot divide by zero\n",
          "output_type": "stream"
        }
      ]
    },
    {
      "cell_type": "markdown",
      "source": "## 4.lookup error",
      "metadata": {}
    },
    {
      "cell_type": "code",
      "source": "LookupError exception is the base class for errors raised when something cannot be found. The base class for the \nexceptions that are raised when a key or index used on a mapping or sequence is invalid: indexeror,keyerror.An indexerror\nis raised when a sequence reference is out of range.",
      "metadata": {},
      "execution_count": null,
      "outputs": []
    },
    {
      "cell_type": "markdown",
      "source": "## key error",
      "metadata": {}
    },
    {
      "cell_type": "code",
      "source": "#check the keyerror\nages = {'A':45,'B':51,'C':67}\nprint (ages['A'])\nprint(ages ['B'])\nprint (ages['C'])\nprint(ages ['D'])",
      "metadata": {
        "trusted": true
      },
      "execution_count": 12,
      "outputs": [
        {
          "name": "stdout",
          "text": "45\n51\n67\n",
          "output_type": "stream"
        },
        {
          "ename": "<class 'KeyError'>",
          "evalue": "'D'",
          "traceback": [
            "\u001b[0;31m---------------------------------------------------------------------------\u001b[0m",
            "\u001b[0;31mKeyError\u001b[0m                                  Traceback (most recent call last)",
            "Cell \u001b[0;32mIn[12], line 6\u001b[0m\n\u001b[1;32m      4\u001b[0m \u001b[38;5;28mprint\u001b[39m(ages [\u001b[38;5;124m'\u001b[39m\u001b[38;5;124mB\u001b[39m\u001b[38;5;124m'\u001b[39m])\n\u001b[1;32m      5\u001b[0m \u001b[38;5;28mprint\u001b[39m (ages[\u001b[38;5;124m'\u001b[39m\u001b[38;5;124mC\u001b[39m\u001b[38;5;124m'\u001b[39m])\n\u001b[0;32m----> 6\u001b[0m \u001b[38;5;28mprint\u001b[39m(\u001b[43mages\u001b[49m\u001b[43m \u001b[49m\u001b[43m[\u001b[49m\u001b[38;5;124;43m'\u001b[39;49m\u001b[38;5;124;43mD\u001b[39;49m\u001b[38;5;124;43m'\u001b[39;49m\u001b[43m]\u001b[49m)\n",
            "\u001b[0;31mKeyError\u001b[0m: 'D'"
          ],
          "output_type": "error"
        }
      ]
    },
    {
      "cell_type": "markdown",
      "source": "## index error",
      "metadata": {}
    },
    {
      "cell_type": "code",
      "source": "test_list = [1,2,3,4]\nprint(test_list[4])",
      "metadata": {
        "trusted": true
      },
      "execution_count": 13,
      "outputs": [
        {
          "ename": "<class 'IndexError'>",
          "evalue": "list index out of range",
          "traceback": [
            "\u001b[0;31m---------------------------------------------------------------------------\u001b[0m",
            "\u001b[0;31mIndexError\u001b[0m                                Traceback (most recent call last)",
            "Cell \u001b[0;32mIn[13], line 2\u001b[0m\n\u001b[1;32m      1\u001b[0m test_list \u001b[38;5;241m=\u001b[39m [\u001b[38;5;241m1\u001b[39m,\u001b[38;5;241m2\u001b[39m,\u001b[38;5;241m3\u001b[39m,\u001b[38;5;241m4\u001b[39m]\n\u001b[0;32m----> 2\u001b[0m \u001b[38;5;28mprint\u001b[39m(\u001b[43mtest_list\u001b[49m\u001b[43m[\u001b[49m\u001b[38;5;241;43m4\u001b[39;49m\u001b[43m]\u001b[49m)\n",
            "\u001b[0;31mIndexError\u001b[0m: list index out of range"
          ],
          "output_type": "error"
        }
      ]
    },
    {
      "cell_type": "markdown",
      "source": "## 5.import error",
      "metadata": {}
    },
    {
      "cell_type": "code",
      "source": "In python,import error occurs when the python program tries to import module which does not exist in the private table.\nThis exception can be avoided using exception handling using try and except blocks. We also saw examples of how the \nimporterror occurs and how it is handled.",
      "metadata": {
        "trusted": true
      },
      "execution_count": null,
      "outputs": []
    },
    {
      "cell_type": "markdown",
      "source": "## module not found error",
      "metadata": {}
    },
    {
      "cell_type": "code",
      "source": "The \"module not found\" error in python occurs when the interpreter is unable to import the specified module,",
      "metadata": {},
      "execution_count": null,
      "outputs": []
    },
    {
      "cell_type": "code",
      "source": "import demoA.test  as test1\n\ntest1.hello()",
      "metadata": {
        "trusted": true
      },
      "execution_count": 17,
      "outputs": [
        {
          "ename": "<class 'ModuleNotFoundError'>",
          "evalue": "No module named 'demoA'",
          "traceback": [
            "\u001b[0;31m---------------------------------------------------------------------------\u001b[0m",
            "\u001b[0;31mModuleNotFoundError\u001b[0m                       Traceback (most recent call last)",
            "Cell \u001b[0;32mIn[17], line 1\u001b[0m\n\u001b[0;32m----> 1\u001b[0m \u001b[38;5;28;01mimport\u001b[39;00m \u001b[38;5;21;01mdemoA\u001b[39;00m\u001b[38;5;21;01m.\u001b[39;00m\u001b[38;5;21;01mtest\u001b[39;00m  \u001b[38;5;28;01mas\u001b[39;00m \u001b[38;5;21;01mtest1\u001b[39;00m\n\u001b[1;32m      3\u001b[0m test1\u001b[38;5;241m.\u001b[39mhello()\n",
            "\u001b[0;31mModuleNotFoundError\u001b[0m: No module named 'demoA'"
          ],
          "output_type": "error"
        }
      ]
    },
    {
      "cell_type": "markdown",
      "source": "## 6.best practices for exception handling in python",
      "metadata": {}
    },
    {
      "cell_type": "code",
      "source": "-use exceptions for expectional class\n-Dont swallow the exception\n-Catch specific \n-Always clean up resources in a finally block\n-Avoid raising generic exceptions\n-Raise custom exceptions\n-Define ypur own exceptiom hierachy\n-Documebt all exceptions thrown by a function",
      "metadata": {},
      "execution_count": null,
      "outputs": []
    }
  ]
}